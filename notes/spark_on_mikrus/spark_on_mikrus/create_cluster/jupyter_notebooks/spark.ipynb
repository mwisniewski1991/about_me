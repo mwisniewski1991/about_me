{
 "cells": [
  {
   "cell_type": "code",
   "execution_count": null,
   "id": "3584d33c",
   "metadata": {
    "vscode": {
     "languageId": "plaintext"
    }
   },
   "outputs": [],
   "source": [
    "# Initialization"
   ]
  },
  {
   "cell_type": "code",
   "execution_count": null,
   "id": "084ebc97",
   "metadata": {
    "vscode": {
     "languageId": "plaintext"
    }
   },
   "outputs": [],
   "source": [
    "from pyspark.sql import SparkSession"
   ]
  },
  {
   "cell_type": "code",
   "execution_count": null,
   "id": "52cdfadb",
   "metadata": {
    "vscode": {
     "languageId": "plaintext"
    }
   },
   "outputs": [],
   "source": [
    "spark = SparkSession.builder \\\n",
    "    .appName(\"SparkTest\") \\\n",
    "    .master(\"spark://spark-master:YOUR_PORT_1\") \\\n",
    "    .config(\"spark.executor.memory\", \"1g\") \\\n",
    "    .config(\"spark.driver.bindAddress\", \"0.0.0.0\") \\\n",
    "    .config(\"spark.driver.host\", \"srv01.mikr.us\") \\\n",
    "    .config(\"spark.driver.port\", \"YOUR_PORT_5\") \\\n",
    "    .config(\"spark.port.maxRetries\", \"3\") \\\n",
    "    .config(\"spark.ui.port\", \"YOUR_PORT_7\") \\\n",
    "    .config(\"spark.blockManager.port\", \"YOUR_PORT_8\") \\\n",
    "    .getOrCreate()"
   ]
  },
  {
   "cell_type": "code",
   "execution_count": null,
   "id": "9c2cd451",
   "metadata": {
    "vscode": {
     "languageId": "plaintext"
    }
   },
   "outputs": [],
   "source": [
    "spark"
   ]
  },
  {
   "cell_type": "code",
   "execution_count": null,
   "id": "db15fad4",
   "metadata": {
    "vscode": {
     "languageId": "plaintext"
    }
   },
   "outputs": [],
   "source": [
    "# Data"
   ]
  },
  {
   "cell_type": "code",
   "execution_count": null,
   "id": "a809883a",
   "metadata": {
    "vscode": {
     "languageId": "plaintext"
    }
   },
   "outputs": [],
   "source": [
    "import random\n",
    "from pyspark.sql.types import StructType, StructField, IntegerType, StringType, DoubleType\n",
    "import numpy as np\n",
    "\n",
    "# Lista przykładowych krajów\n",
    "countries = ['Poland', 'Germany', 'France', 'Spain', 'Italy', 'UK', 'Netherlands', \n",
    "            'Belgium', 'Sweden', 'Norway', 'Denmark', 'Finland', 'Switzerland']\n",
    "\n",
    "# Generowanie danych\n",
    "num_rows = 10\n",
    "data = []\n",
    "\n",
    "for i in range(num_rows):\n",
    "    row = (\n",
    "        i + 1,  # ID\n",
    "        round(random.uniform(1.0, 100.0), 2),  # value - losowa liczba z zakresu 1-1000 z 2 miejscami po przecinku\n",
    "        random.choice(countries)  # country - losowy kraj z listy\n",
    "    )\n",
    "    data.append(row)\n",
    "\n",
    "# Definiowanie schematu\n",
    "schema = StructType([\n",
    "    StructField(\"ID\", IntegerType(), False),\n",
    "    StructField(\"value\", DoubleType(), False),\n",
    "    StructField(\"country\", StringType(), False)\n",
    "])\n",
    "\n",
    "# Tworzenie DataFrame\n",
    "random_df = spark.createDataFrame(data, schema)"
   ]
  },
  {
   "cell_type": "code",
   "execution_count": null,
   "id": "a7e0d720",
   "metadata": {
    "vscode": {
     "languageId": "plaintext"
    }
   },
   "outputs": [],
   "source": [
    "print(\"Przykładowe dane:\")\n",
    "random_df.show(5)\n",
    "\n",
    "print(\"\\nSchema DataFrame:\")\n",
    "random_df.printSchema()\n",
    "\n",
    "print(\"\\nLiczba wierszy:\")\n",
    "print(random_df.count())"
   ]
  }
 ],
 "metadata": {
  "language_info": {
   "name": "python"
  }
 },
 "nbformat": 4,
 "nbformat_minor": 5
}
